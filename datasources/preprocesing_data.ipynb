{
  "nbformat": 4,
  "nbformat_minor": 0,
  "metadata": {
    "colab": {
      "name": "preprocesing-data.ipynb",
      "provenance": []
    },
    "kernelspec": {
      "name": "python3",
      "display_name": "Python 3"
    },
    "language_info": {
      "name": "python"
    }
  },
  "cells": [
    {
      "cell_type": "code",
      "source": [
        "import tensorflow as tf\n",
        "import pandas as pd\n",
        "from sklearn.model_selection import train_test_split\n",
        "from sklearn.preprocessing import MinMaxScaler\n",
        "import matplotlib.pyplot as plt\n",
        "from array import *\n",
        "from pickle import dump\n",
        "\n",
        "import numpy as np\n",
        "import pandas as pd\n",
        "import seaborn as sns\n",
        "\n",
        "from sklearn.model_selection import train_test_split\n",
        "np.random.seed(123)\n",
        "\n",
        "gpus = tf.config.experimental.list_physical_devices('GPU')\n",
        "for gpu in gpus:\n",
        "    tf.config.experimental.set_memory_growth(gpu, True)"
      ],
      "metadata": {
        "id": "VXyrVLmTS-sE"
      },
      "execution_count": 3,
      "outputs": []
    },
    {
      "cell_type": "code",
      "source": [
        "from google.colab import drive\n",
        "drive.mount('/content/drive', force_remount=True)"
      ],
      "metadata": {
        "colab": {
          "base_uri": "https://localhost:8080/"
        },
        "id": "wivksVljk2l1",
        "outputId": "8e8c009f-4c4c-4cf8-9e19-c76b1a3d5348"
      },
      "execution_count": 2,
      "outputs": [
        {
          "output_type": "stream",
          "name": "stdout",
          "text": [
            "Mounted at /content/drive\n"
          ]
        }
      ]
    },
    {
      "cell_type": "code",
      "execution_count": 3,
      "metadata": {
        "id": "jslVRctwNXo4"
      },
      "outputs": [],
      "source": [
        "# Extraemos del repositorio los datos correspondientes al consumo total desde enero de 2019 hasta ... de 2020\n",
        "\n",
        "# Año 2019\n",
        "data_2019_01 = 'https://figshare.com/ndownloader/files/28120056'\n",
        "data_2019_02 = 'https://figshare.com/ndownloader/files/28120059'\n",
        "data_2019_03 = 'https://figshare.com/ndownloader/files/28120062'\n",
        "data_2019_04 = 'https://figshare.com/ndownloader/files/28120176'\n",
        "data_2019_05 = 'https://figshare.com/ndownloader/files/28120242'\n",
        "data_2019_06 = 'https://figshare.com/ndownloader/files/28120620'\n",
        "data_2019_07 = 'https://figshare.com/ndownloader/files/28120671'\n",
        "data_2019_08 = 'https://figshare.com/ndownloader/files/28128426'\n",
        "data_2019_09 = 'https://figshare.com/ndownloader/files/28128453'\n",
        "data_2019_10 = 'https://figshare.com/ndownloader/files/28128447'\n",
        "data_2019_11 = 'https://figshare.com/ndownloader/files/28128408'\n",
        "data_2019_12 = 'https://figshare.com/ndownloader/files/28128396'\n",
        "\n",
        "# Año 2020\n",
        "data_2020_01 = 'https://figshare.com/ndownloader/files/28128441'\n",
        "data_2020_02 = 'https://figshare.com/ndownloader/files/28128369'\n",
        "data_2020_03 = 'https://figshare.com/ndownloader/files/28130424'\n",
        "data_2020_04 = 'https://figshare.com/ndownloader/files/28128384'\n",
        "data_2020_05 = 'https://figshare.com/ndownloader/files/28130430'\n",
        "data_2020_06 = 'https://figshare.com/ndownloader/files/28130433'\n",
        "data_2020_07 = 'https://figshare.com/ndownloader/files/28130613'\n",
        "data_2020_08 = 'https://figshare.com/ndownloader/files/28130691'\n",
        "data_2020_09 = 'https://figshare.com/ndownloader/files/28130694'\n",
        "data_2020_10 = 'https://figshare.com/ndownloader/files/28130688'\n",
        "data_2020_11 = 'https://figshare.com/ndownloader/files/28130697'"
      ]
    },
    {
      "cell_type": "code",
      "source": [
        "sources = [data_2019_01, data_2019_02, data_2019_03, data_2019_04, data_2019_05, data_2019_06, data_2019_07, data_2019_08, data_2019_09, data_2019_10, data_2019_11, data_2019_12,\n",
        "           data_2020_01, data_2020_02, data_2020_03, data_2020_04, data_2020_05, data_2020_06, data_2020_07, data_2020_08, data_2020_09, data_2020_10, data_2020_11]"
      ],
      "metadata": {
        "id": "0wBqj6HfStkU"
      },
      "execution_count": 5,
      "outputs": []
    },
    {
      "cell_type": "markdown",
      "source": [
        "### Con esta función extraería todo el conjunto de datos a la vez, pero falta memoria ram"
      ],
      "metadata": {
        "id": "C2nj-NUkLeN7"
      }
    },
    {
      "cell_type": "code",
      "source": [
        "def extraer_datos_id(id):\n",
        "    lista_df = []\n",
        "\n",
        "    for x in sources:\n",
        "        df = pd.read_csv(x, compression='gzip', header=0, sep=',', quotechar='\"', error_bad_lines=False)\n",
        "        df.columns = ['datetime', 'id', 'value']\n",
        "        df['datetime'] = pd.to_datetime(df['datetime'], unit='s')\n",
        "\n",
        "        condicion = df.loc[:, 'id'] == id\n",
        "        df_seleccion = df.loc[condicion]\n",
        "\n",
        "        lista_df.append(df_seleccion)\n",
        "\n",
        "    return pd.concat(lista_df).reset_index(drop=True)  "
      ],
      "metadata": {
        "id": "_CfaXnDl13I7"
      },
      "execution_count": 6,
      "outputs": []
    },
    {
      "cell_type": "code",
      "source": [
        "df_id_17 = extraer_datos_id(17)\n",
        "df_id_17"
      ],
      "metadata": {
        "colab": {
          "base_uri": "https://localhost:8080/"
        },
        "id": "c2KanHB93dA7",
        "outputId": "21cb509e-5585-4934-e8ed-efa6e800cb33"
      },
      "execution_count": null,
      "outputs": [
        {
          "output_type": "stream",
          "name": "stderr",
          "text": [
            "/usr/local/lib/python3.7/dist-packages/ipykernel_launcher.py:1: FutureWarning: The error_bad_lines argument has been deprecated and will be removed in a future version.\n",
            "\n",
            "\n",
            "  \"\"\"Entry point for launching an IPython kernel.\n"
          ]
        }
      ]
    },
    {
      "cell_type": "code",
      "source": [
        "df_id_17.to_csv('drive/MyDrive/K-Project/datasources/THC-id-17.csv', index=False)"
      ],
      "metadata": {
        "id": "YQ12VpI1jytk"
      },
      "execution_count": null,
      "outputs": []
    }
  ]
}